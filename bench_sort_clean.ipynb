{
  "cells": [
    {
      "attachments": {},
      "cell_type": "markdown",
      "metadata": {},
      "source": [
        "## Benchmarking of Insertion sort and Merge sort\n",
        "Ingrid-Helena Hansen, Sigurd Nordtveit Hjerde, Andrea Øwre"
      ]
    },
    {
      "cell_type": "markdown",
      "metadata": {
        "id": "YdXUayao0Mww"
      },
      "source": [
        "### Importing modules and generating data"
      ]
    },
    {
      "cell_type": "code",
      "execution_count": 3,
      "metadata": {
        "id": "yGIWyKUaFS00"
      },
      "outputs": [],
      "source": [
        "import numpy as np\n",
        "from numpy.random import randint\n",
        "\n",
        "import timeit\n",
        "import copy\n",
        "import pickle\n",
        "\n",
        "import matplotlib.pyplot as plt\n",
        "import pandas as pd\n",
        "import random\n",
        "import math"
      ]
    },
    {
      "cell_type": "code",
      "execution_count": 4,
      "metadata": {
        "id": "93QTnSAmDl49"
      },
      "outputs": [],
      "source": [
        "np.random.seed(1)\n",
        "data = randint(0,10,100)\n",
        "data = data.tolist()"
      ]
    },
    {
      "cell_type": "markdown",
      "metadata": {
        "id": "9pKCfJbs0LDM"
      },
      "source": [
        "### Insertion sort"
      ]
    },
    {
      "cell_type": "code",
      "execution_count": 5,
      "metadata": {
        "id": "Bvhtm8saw9VS"
      },
      "outputs": [],
      "source": [
        "def insertion_sort(A):\n",
        "    for i in range(2, len(A)):\n",
        "        key = A[i]\n",
        "        j = i - 1\n",
        "        while j >= 0 and A[j] > key:\n",
        "            A[j+1] = A[j]\n",
        "            j = j - 1\n",
        "        A[j+1] = key"
      ]
    },
    {
      "cell_type": "code",
      "execution_count": 6,
      "metadata": {
        "colab": {
          "base_uri": "https://localhost:8080/"
        },
        "id": "gFtjPfQR0n9-",
        "outputId": "605ba747-7257-43c9-9698-ebdb36a314b5"
      },
      "outputs": [
        {
          "data": {
            "text/plain": [
              "array([0, 0, 0, 0, 0, 0, 0, 0, 0, 1, 1, 1, 1, 1, 1, 1, 1, 2, 2, 2, 2, 2,\n",
              "       2, 2, 3, 3, 3, 3, 3, 3, 3, 3, 4, 4, 4, 4, 4, 4, 4, 4, 4, 4, 4, 5,\n",
              "       5, 5, 5, 5, 5, 5, 6, 6, 6, 6, 6, 6, 6, 6, 7, 7, 7, 7, 7, 7, 7, 7,\n",
              "       7, 7, 7, 7, 7, 7, 7, 7, 7, 7, 8, 8, 8, 8, 8, 8, 8, 8, 8, 8, 9, 9,\n",
              "       9, 9, 9, 9, 9, 9, 9, 9, 9, 9, 9, 9])"
            ]
          },
          "execution_count": 6,
          "metadata": {},
          "output_type": "execute_result"
        }
      ],
      "source": [
        "insertion_sort(data)\n",
        "np.array(data)"
      ]
    },
    {
      "cell_type": "markdown",
      "metadata": {
        "id": "gvPaWKL90IU9"
      },
      "source": [
        "### Merge sort"
      ]
    },
    {
      "cell_type": "code",
      "execution_count": 7,
      "metadata": {
        "id": "FeOJwKaqtNrr"
      },
      "outputs": [],
      "source": [
        "## Merge sort\n",
        "\n",
        "def merge_sort(A):\n",
        "  if len(A) > 1:\n",
        "    q = len(A) // 2\n",
        "    L = A[:q]\n",
        "    R = A[q:]\n",
        "\n",
        "    merge_sort(L)\n",
        "    merge_sort(R)\n",
        "\n",
        "    i = j = k = 0\n",
        "\n",
        "    while i < len(L) and j < len(R):\n",
        "      if L[i] <= R[j]:\n",
        "        A[k] = L[i]\n",
        "        i += 1\n",
        "      else:\n",
        "        A[k] = R[j]\n",
        "        j += 1\n",
        "      k += 1\n",
        "    \n",
        "    while i < len(L):\n",
        "      A[k] = L[i]\n",
        "      i += 1\n",
        "      k += 1\n",
        "    \n",
        "    while j < len(R):\n",
        "      A[k] = R[j]\n",
        "      j += 1\n",
        "      k += 1"
      ]
    },
    {
      "cell_type": "code",
      "execution_count": 8,
      "metadata": {
        "colab": {
          "base_uri": "https://localhost:8080/"
        },
        "id": "UDjqkGbg0wPb",
        "outputId": "1b07c599-2f87-4034-dc7a-1ed898a8352c"
      },
      "outputs": [
        {
          "data": {
            "text/plain": [
              "array([0, 0, 0, 0, 0, 0, 0, 0, 0, 1, 1, 1, 1, 1, 1, 1, 1, 2, 2, 2, 2, 2,\n",
              "       2, 2, 3, 3, 3, 3, 3, 3, 3, 3, 4, 4, 4, 4, 4, 4, 4, 4, 4, 4, 4, 5,\n",
              "       5, 5, 5, 5, 5, 5, 6, 6, 6, 6, 6, 6, 6, 6, 7, 7, 7, 7, 7, 7, 7, 7,\n",
              "       7, 7, 7, 7, 7, 7, 7, 7, 7, 7, 8, 8, 8, 8, 8, 8, 8, 8, 8, 8, 9, 9,\n",
              "       9, 9, 9, 9, 9, 9, 9, 9, 9, 9, 9, 9])"
            ]
          },
          "execution_count": 8,
          "metadata": {},
          "output_type": "execute_result"
        }
      ],
      "source": [
        "merge_sort(data)\n",
        "np.array(data)"
      ]
    },
    {
      "cell_type": "markdown",
      "metadata": {
        "id": "QgDMIAQL08o9"
      },
      "source": [
        "### Benchmarking"
      ]
    },
    {
      "cell_type": "code",
      "execution_count": 25,
      "metadata": {
        "id": "MIJPQz1BS0Hs"
      },
      "outputs": [],
      "source": [
        "data_size = [10, 50, 100, 500, 1000, 5000, 10000]"
      ]
    },
    {
      "cell_type": "code",
      "execution_count": 26,
      "metadata": {
        "colab": {
          "base_uri": "https://localhost:8080/"
        },
        "id": "T0YSTS7dReW4",
        "outputId": "5c04a246-0045-42da-f004-59f3e4dc43f6"
      },
      "outputs": [
        {
          "name": "stdout",
          "output_type": "stream",
          "text": [
            "         10        50       100       500      1000      5000     10000\n",
            "0  0.271852  0.461537  0.205940  0.257541  0.285422  0.342256  0.361499\n",
            "1  0.304065  0.211837  0.243313  0.306123  0.343686  0.211946  0.228538\n",
            "2  0.319140  0.493580  0.216573  0.265787  0.295502  0.351938  0.368614\n",
            "         10        50       100       500      1000      5000     10000\n",
            "0  0.350902  0.401767  0.313253  0.421788  0.388222  0.191766  0.378384\n",
            "1  0.370152  0.441070  0.336382  0.465061  0.197761  1.047856  4.102122\n",
            "2  0.409577  0.366164  0.355909  0.366524  0.390658  2.076316  8.168054\n",
            "[[0.37891229998786, 0.3803160000243224, 0.37694659997941926, 0.37793660000897944, 0.37780800001928583], [4.115443399990909, 4.108390900015365, 4.096879899967462, 4.087204499985091, 4.102689700026531], [8.158896700013429, 8.193476699991152, 8.165366899978835, 8.161697100033052, 8.160830500011798]]\n",
            "[[0.36317770002642646, 0.3585577999474481, 0.3634434000123292, 0.361562000005506, 0.3607549999724142], [0.23594779998529702, 0.22729169996455312, 0.2247213000082411, 0.22882210003444925, 0.22590940003283322], [0.3704996000160463, 0.36586660001194105, 0.36812239995924756, 0.3717655999935232, 0.3668176999781281]]\n"
          ]
        }
      ],
      "source": [
        "dataframe_ins = pd.DataFrame()\n",
        "dataframe_merg = pd.DataFrame()\n",
        "for size in data_size:\n",
        "    col_in = []\n",
        "    col_mer = []\n",
        "    b_c = [i for i in range(size)]\n",
        "    w_c = [size-i for i in range(size)]\n",
        "    a_c = []\n",
        "    for x in range(size):\n",
        "        a_c.append(random.randint(0,100))\n",
        "    box_plot_i = []\n",
        "    box_plot_m = []\n",
        "    for data in [b_c, a_c, w_c]:\n",
        "        clock_insert = timeit.Timer(\n",
        "            stmt='sort_func(copy(data))',\n",
        "            globals={'sort_func': insertion_sort,\n",
        "                     'data': data,\n",
        "                     'copy': copy.copy})\n",
        "        t_insert = clock_insert.repeat(\n",
        "            repeat=5,\n",
        "              number=clock_insert.autorange()[0])\n",
        "        col_in.append(np.mean(t_insert))\n",
        "        clock_merge = timeit.Timer(\n",
        "            stmt='sort_func(copy(data))',\n",
        "            globals={'sort_func': merge_sort,\n",
        "                     'data': data,\n",
        "                     'copy': copy.copy})\n",
        "        t_merge = clock_merge.repeat(\n",
        "            repeat=5,\n",
        "            number=clock_merge.autorange()[0])\n",
        "        col_mer.append(np.mean(t_merge))\n",
        "        if size == 10000:\n",
        "            box_plot_i.append(t_insert)\n",
        "            box_plot_m.append(t_merge)\n",
        "    dataframe_ins[f'{size}'] = col_in\n",
        "    dataframe_merg[f'{size}'] = col_mer\n",
        "\n",
        "print(dataframe_merg)\n",
        "print(dataframe_ins)\n",
        "print(box_plot_i)\n",
        "print(box_plot_m)"
      ]
    },
    {
      "attachments": {},
      "cell_type": "markdown",
      "metadata": {},
      "source": [
        "### Plotting"
      ]
    },
    {
      "cell_type": "code",
      "execution_count": 58,
      "metadata": {
        "colab": {
          "base_uri": "https://localhost:8080/",
          "height": 303
        },
        "id": "xDOTWdSsYThC",
        "outputId": "5c41afce-445f-4ad2-cea0-7435d67b4226"
      },
      "outputs": [
        {
          "name": "stderr",
          "output_type": "stream",
          "text": [
            "C:\\Users\\Eier\\AppData\\Local\\Temp\\ipykernel_9236\\1179604793.py:14: UserWarning: Attempt to set non-positive ylim on a log-scaled axis will be ignored.\n",
            "  plt.ylim(0,10)\n"
          ]
        },
        {
          "data": {
            "image/png": "[encoded data removed]",
            "text/plain": [
              "<Figure size 330.709x267.717 with 1 Axes>"
            ]
          },
          "metadata": {},
          "output_type": "display_data"
        }
      ],
      "source": [
        "best_case  = dataframe_ins.iloc[0,:]\n",
        "avg_case   = dataframe_ins.iloc[1,:]\n",
        "worst_case = dataframe_ins.iloc[2,:]\n",
        "\n",
        "#plt.style.use('seaborn-v0_8-colorblind')\n",
        "cm = 1/2.54\n",
        "plt.figure(figsize=(8.4*cm,6.8*cm))\n",
        "plt.plot(data_size, best_case, '-o', color = 'red')\n",
        "plt.plot(data_size, avg_case, '-o', color = 'orange')\n",
        "plt.plot(data_size, worst_case, '-o', color = 'black')\n",
        "\n",
        "plt.xscale('log')\n",
        "plt.yscale('log')\n",
        "plt.ylim(0,10)\n",
        "#plt.xlabel('Data size')\n",
        "#plt.ylabel('Time (seconds)')\n",
        "#plt.title('Insertion sort benchmark results')\n",
        "plt.savefig('Insertion_sort_bench.pdf')\n",
        "plt.show()\n",
        "\n"
      ]
    },
    {
      "cell_type": "code",
      "execution_count": 59,
      "metadata": {
        "colab": {
          "base_uri": "https://localhost:8080/",
          "height": 303
        },
        "id": "jLBh2URUfo2X",
        "outputId": "daef0d2c-5030-4c46-ea73-58341ed43a64"
      },
      "outputs": [
        {
          "data": {
            "image/png": "[encoded data removed]",
            "text/plain": [
              "<Figure size 330.709x267.717 with 1 Axes>"
            ]
          },
          "metadata": {},
          "output_type": "display_data"
        }
      ],
      "source": [
        "best_case_m  = dataframe_merg.iloc[0,:]\n",
        "avg_case_m  = dataframe_merg.iloc[1,:]\n",
        "worst_case_m = dataframe_merg.iloc[2,:]\n",
        "\n",
        "#plt.style.use('seaborn-v0_8-colorblind')\n",
        "cm = 1/2.54\n",
        "plt.figure(figsize=(8.4*cm,6.8*cm))\n",
        "\n",
        "plt.plot(data_size, best_case_m, '-o', color = 'red')\n",
        "plt.plot(data_size, avg_case_m, '-o', color = 'orange')\n",
        "plt.plot(data_size, worst_case_m, '-o', color ='black')\n",
        "\n",
        "plt.xscale('log')\n",
        "#plt.yscale('log')\n",
        "plt.ylim(0.1,0.6)\n",
        "#plt.xlabel('Data size')\n",
        "#plt.ylabel('Time (seconds)')\n",
        "#plt.title('Merge sort benchmark results')\n",
        "plt.savefig('merge_sort_bench.pdf')\n",
        "plt.show()\n",
        "\n"
      ]
    },
    {
      "cell_type": "code",
      "execution_count": 79,
      "metadata": {
        "colab": {
          "base_uri": "https://localhost:8080/",
          "height": 581
        },
        "id": "WqHXSvoE4RgO",
        "outputId": "779855f7-c38e-4bec-ffaa-69192376e882"
      },
      "outputs": [
        {
          "data": {
            "image/png": "[encoded data removed]",
            "text/plain": [
              "<Figure size 157.48x330.709 with 2 Axes>"
            ]
          },
          "metadata": {},
          "output_type": "display_data"
        },
        {
          "data": {
            "image/png": "[encoded data removed]",
            "text/plain": [
              "<Figure size 157.48x330.709 with 2 Axes>"
            ]
          },
          "metadata": {},
          "output_type": "display_data"
        },
        {
          "data": {
            "image/png": "[encoded data removed]",
            "text/plain": [
              "<Figure size 157.48x330.709 with 2 Axes>"
            ]
          },
          "metadata": {},
          "output_type": "display_data"
        }
      ],
      "source": [
        "#cm = 1/2.54\n",
        "#fig, axs = plt.subplots(2, 3, figsize=(6.4*cm,8.4*cm))\n",
        "cases = ['Best case', 'Avrage case', 'Worst case']\n",
        "\n",
        "for ind in range(3):\n",
        "  cm = 1/2.54\n",
        "  fig, axs = plt.subplots(2, 1, figsize=(4*cm,8.4*cm))\n",
        "  axs[0].boxplot(box_plot_i[ind])\n",
        "  #axs[0].set_title(f'{cases[ind]}', fontsize=8)\n",
        "  axs[1].boxplot(box_plot_m[ind])\n",
        "  #axs[1].set_title(f'{cases[ind]}', fontsize=8)\n",
        "\n",
        "#fig.suptitle('Sorting Algorithm Performance', fontsize=16, y=1.05)\n",
        "  #axs[0].set_ylabel('Insertion Sort', fontsize=8)\n",
        "  #axs[1].set_ylabel('Merge Sort', fontsize=8)\n",
        "  plt.tight_layout\n",
        "  plt.savefig('boxplot_bench'+f'{ind}'+'.pdf')\n",
        "  plt.show()\n",
        "\n"
      ]
    }
  ],
  "metadata": {
    "colab": {
      "provenance": []
    },
    "kernelspec": {
      "display_name": "Python 3",
      "name": "python3"
    },
    "language_info": {
      "codemirror_mode": {
        "name": "ipython",
        "version": 3
      },
      "file_extension": ".py",
      "mimetype": "text/x-python",
      "name": "python",
      "nbconvert_exporter": "python",
      "pygments_lexer": "ipython3",
      "version": "3.10.8"
    }
  },
  "nbformat": 4,
  "nbformat_minor": 0
}
